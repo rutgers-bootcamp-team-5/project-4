{
 "cells": [
  {
   "cell_type": "markdown",
   "metadata": {},
   "source": [
    "What health features most closely correspond with alzheimers"
   ]
  },
  {
   "cell_type": "code",
   "execution_count": null,
   "metadata": {},
   "outputs": [],
   "source": [
    "import pandas as pd\n",
    "import matplotlib.pyplot as plt\n",
    "import tensorflow as tf\n",
    "\n",
    "from pathlib import Path\n",
    "from pyspark.shell import spark\n",
    "from sklearn.model_selection import train_test_split\n",
    "from sklearn.preprocessing import StandardScaler\n",
    "\n",
    "pd.set_option('display.max_columns', None)"
   ]
  },
  {
   "cell_type": "code",
   "execution_count": null,
   "metadata": {},
   "outputs": [],
   "source": [
    "#Assign path to variable\n",
    "alzheimer_data_path = 'Data/alzheimers_disease_data.csv'"
   ]
  },
  {
   "cell_type": "code",
   "execution_count": null,
   "metadata": {},
   "outputs": [],
   "source": [
    "#Create temp view to be able to easily query from DataFrame\n",
    "spark_test_df = spark.read.csv(alzheimer_data_path, header = 'True', inferSchema=True)\n",
    "data = spark_test_df.toPandas()"
   ]
  },
  {
   "cell_type": "code",
   "execution_count": null,
   "metadata": {},
   "outputs": [],
   "source": [
    "# Drop the Doctor in Charge, As it is confiential data only 'XXXX' is a value\n",
    "data.drop(['DoctorInCharge'],axis=1, inplace=True)"
   ]
  },
  {
   "cell_type": "code",
   "execution_count": null,
   "metadata": {},
   "outputs": [],
   "source": [
    "# Dictonaries of replacement data for Medical History\n",
    "medical_history_dicts = {\n",
    "    'Gender'                    : {0:'Male', 1:'Female'},\n",
    "    'Ethnicity'                 : {0:'Caucasian', 1:'African American', 2:'Asian', 3:'Other'},\n",
    "    'EducationLevel'            : {0:'None', 1:'High School', 2:\"Bachelor's\", 3: 'Higher'},\n",
    "    'Smoking'                   : {0:'Non-Smoker', 1:'Smoker'},\n",
    "    'FamilyHistoryAlzheimers'   : {0:'No Alzheimers in Family',1:'Alzheimers in Family'},\n",
    "    'CardiovascularDisease'     : {0:'No Cardiovascular', 1:'Cardiovascular'},\n",
    "    'Diabetes'                  : {0:'No Diabetes', 1:'Diabetes'},\n",
    "    'Depression'                : {0:'No Depression', 1:'Depression'},\n",
    "    'HeadInjury'                : {0:'No History of Head Injury', 1: 'History of Head Injury'},\n",
    "    'Hypertension'              : {0:'Non-hypertensive', 1: 'Hypertensive'} \n",
    "}\n",
    "\n",
    "# Replaceing of Data for Medical History\n",
    "for k, v in medical_history_dicts.items():\n",
    "    data.replace({k : v}, inplace=True)\n",
    "data.head()"
   ]
  },
  {
   "cell_type": "code",
   "execution_count": null,
   "metadata": {},
   "outputs": [],
   "source": [
    "# Dictonaries of replacement data for Cognitive and Functional Assessments\n",
    "\n",
    "MemoryComplaints_Dict = {0:'No Memory Issues', 1:'Memory Complains'}\n",
    "BehavioralProblems_Dict = {0:'No Behavioral Issues', 1:'Behavioral Issues'}"
   ]
  },
  {
   "cell_type": "code",
   "execution_count": null,
   "metadata": {},
   "outputs": [],
   "source": [
    "# Replaceing of Data for Cognitive and Functional Assessments\n",
    "data['MemoryComplaints'].replace(to_replace=MemoryComplaints_Dict, inplace=True)\n",
    "data['BehavioralProblems'].replace(to_replace=BehavioralProblems_Dict, inplace=True)\n",
    "\n",
    "data.head()"
   ]
  },
  {
   "cell_type": "code",
   "execution_count": null,
   "metadata": {},
   "outputs": [],
   "source": [
    "# Dictonaries of replacement data for Symptoms\n",
    "\n",
    "Confusion_Dict = {0: 'Not Confused', 1: 'Confused'}\n",
    "Disorientation_Dict = {0: 'Not Disoriented', 1: 'Disoriented'}\n",
    "PersonalityChanges_Dict = {0: 'No Personality Changes', 1: 'Personality Changes'}\n",
    "DifficultyCompletingTasks_Dict = {0: 'No Difficulty', 1: 'Difficulty'}\n",
    "Forgetfulness_Dict = {0: 'Not forgetful', 1: 'Forgetful'}"
   ]
  },
  {
   "cell_type": "code",
   "execution_count": null,
   "metadata": {},
   "outputs": [],
   "source": [
    "# Replaceing of Data for Symptoms\n",
    "data['Confusion'].replace(to_replace=Confusion_Dict, inplace=True)\n",
    "data['Disorientation'].replace(to_replace=Disorientation_Dict, inplace=True)\n",
    "data['PersonalityChanges'].replace(to_replace=PersonalityChanges_Dict, inplace=True)\n",
    "data['DifficultyCompletingTasks'].replace(to_replace=DifficultyCompletingTasks_Dict, inplace=True)\n",
    "data['Forgetfulness'].replace(to_replace=Forgetfulness_Dict, inplace=True)\n",
    "\n",
    "data.head()"
   ]
  },
  {
   "cell_type": "code",
   "execution_count": null,
   "metadata": {},
   "outputs": [],
   "source": [
    "Diagnosis_Dict = {0: \"No Alzheimer's Disease\", 1: \"Alzheimer's Disease\"}\n",
    "\n",
    "data['Diagnosis'].replace(to_replace=Diagnosis_Dict, inplace=True)\n",
    "\n",
    "data.head()"
   ]
  },
  {
   "cell_type": "code",
   "execution_count": null,
   "metadata": {},
   "outputs": [],
   "source": [
    "data['BMI'] = data['BMI'].astype('int')\n",
    "values, bins, bars = plt.hist(data['Diagnosis'], bins = 2, rwidth= .5, color= 'purple')\n",
    "plt.title('Patients in the Study')\n",
    "plt.xticks(ticks= [.25, .75], labels=['No Alzheimer''s Disease','Alzheimer''s Disease'])\n",
    "plt.xlabel('Diagnosis')\n",
    "plt.ylabel('Number of Patients')\n",
    "plt.bar_label(bars)\n",
    "plt.show()"
   ]
  },
  {
   "cell_type": "code",
   "execution_count": null,
   "metadata": {},
   "outputs": [],
   "source": [
    "bins_BMI = data['BMI'].max() - data['BMI'].min()+1\n",
    "data['BMI'].hist(bins=bins_BMI, histtype = 'bar', rwidth = .5, color = 'yellowgreen')\n",
    "plt.xlabel('BMI(Whole Numbers)')\n",
    "plt.ylabel('Number of Participents')\n",
    "plt.title('Participent BMI')\n",
    "plt.show()"
   ]
  },
  {
   "cell_type": "code",
   "execution_count": null,
   "metadata": {},
   "outputs": [],
   "source": [
    "bins_Age = data['Age'].astype('int').max() - data['Age'].astype('int').min()+1\n",
    "data['Age'].hist(bins=bins_Age, rwidth = .5, color = 'darkorange')\n",
    "plt.xlabel('Age')\n",
    "plt.ylabel('Number of Participents')\n",
    "plt.title('Age of Participents')\n",
    "plt.show()"
   ]
  },
  {
   "cell_type": "code",
   "execution_count": null,
   "metadata": {},
   "outputs": [],
   "source": [
    "data.groupby('Gender')['PatientID'].count().plot.pie(autopct='%1.1f%%', title = 'Study Paticipents by Gender',ylabel = \"\")"
   ]
  },
  {
   "cell_type": "code",
   "execution_count": null,
   "metadata": {},
   "outputs": [],
   "source": [
    "data.groupby('Ethnicity')['PatientID'].count().plot.pie(autopct='%1.1f%%', title = 'Study Paticipents by Ethnicity',ylabel = \"\")"
   ]
  },
  {
   "cell_type": "code",
   "execution_count": null,
   "metadata": {},
   "outputs": [],
   "source": [
    "data.groupby('HeadInjury')['PatientID'].count().plot.pie(autopct='%1.1f%%', title = 'Study Paticipents by History',ylabel = \"\")"
   ]
  },
  {
   "cell_type": "code",
   "execution_count": null,
   "metadata": {},
   "outputs": [],
   "source": [
    "data.groupby('FamilyHistoryAlzheimers')['PatientID'].count().plot.pie(autopct='%1.1f%%', title = 'Study Paticipents by History',ylabel = \"\")"
   ]
  },
  {
   "cell_type": "code",
   "execution_count": null,
   "metadata": {},
   "outputs": [],
   "source": [
    "data.groupby(['Diagnosis','PersonalityChanges'])['PatientID'].count().plot.pie(autopct='%1.1f%%', title = 'Study Paticipents by Diagnosis',ylabel = \"\")"
   ]
  },
  {
   "cell_type": "code",
   "execution_count": null,
   "metadata": {},
   "outputs": [],
   "source": [
    "data.groupby('Diagnosis')['PatientID'].count().plot.pie(autopct='%1.1f%%', title = 'Study Paticipents by Diagnosis',ylabel = \"\")"
   ]
  },
  {
   "cell_type": "code",
   "execution_count": null,
   "metadata": {},
   "outputs": [],
   "source": [
    "data.plot(kind='scatter', x= 'DietQuality', y='BMI')\n",
    "\n",
    "plt.show()"
   ]
  }
 ],
 "metadata": {
  "kernelspec": {
   "display_name": "dev",
   "language": "python",
   "name": "python3"
  },
  "language_info": {
   "codemirror_mode": {
    "name": "ipython",
    "version": 3
   },
   "file_extension": ".py",
   "mimetype": "text/x-python",
   "name": "python",
   "nbconvert_exporter": "python",
   "pygments_lexer": "ipython3",
   "version": "3.10.14"
  }
 },
 "nbformat": 4,
 "nbformat_minor": 2
}
