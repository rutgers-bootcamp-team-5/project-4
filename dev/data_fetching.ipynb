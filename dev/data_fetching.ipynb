{
 "cells": [
  {
   "cell_type": "code",
   "execution_count": 33,
   "metadata": {},
   "outputs": [],
   "source": [
    "# Import dependencies\n",
    "import os\n",
    "import sys\n",
    "\n",
    "os.environ['PYSPARK_PYTHON'] = sys.executable\n",
    "os.environ['PYSPARK_DRIVER_PYTHON'] = sys.executable\n",
    "import pandas as pd\n",
    "import pyspark\n",
    "import pyspark.pandas as ps\n",
    "import matplotlib.pyplot as plt\n",
    "import numpy as np\n",
    "from pathlib import Path\n",
    "from pyspark.shell import spark"
   ]
  },
  {
   "cell_type": "code",
   "execution_count": 34,
   "metadata": {},
   "outputs": [],
   "source": [
    "#Assign path to variable\n",
    "alzheimer_data_path = \"../data/alzheimers_disease_data.csv\""
   ]
  },
  {
   "cell_type": "code",
   "execution_count": 35,
   "metadata": {},
   "outputs": [],
   "source": [
    "#Create temp view to be able to easily query from DataFrame\n",
    "spark_test_df = spark.read.csv(alzheimer_data_path, header = 'True')"
   ]
  },
  {
   "cell_type": "code",
   "execution_count": 36,
   "metadata": {},
   "outputs": [
    {
     "name": "stdout",
     "output_type": "stream",
     "text": [
      "+------------------+\n",
      "|               BMI|\n",
      "+------------------+\n",
      "|18.776009409162835|\n",
      "|28.870652386039602|\n",
      "| 18.04591747393549|\n",
      "|22.822896244065568|\n",
      "| 16.33328275322603|\n",
      "|20.041400357053135|\n",
      "| 36.22309879636211|\n",
      "| 21.96939009200723|\n",
      "|15.457688068877605|\n",
      "|17.572895650191803|\n",
      "|36.221033471912186|\n",
      "| 33.78068523580437|\n",
      "|24.852705199101358|\n",
      "| 37.56853045247124|\n",
      "|26.804163783794337|\n",
      "|15.648055357542315|\n",
      "|33.476970506688936|\n",
      "| 32.03489967050928|\n",
      "|15.639676831549425|\n",
      "| 38.07613526117206|\n",
      "+------------------+\n",
      "only showing top 20 rows\n",
      "\n"
     ]
    }
   ],
   "source": [
    "#Get the BMI for alzheimer POSITIVE patients into a dataframe\n",
    "spark_test_df.createOrReplaceTempView('view')\n",
    "alzheimer_positive_data = spark.sql(\"\"\"SELECT BMI FROM view WHERE Diagnosis=1\"\"\")\n",
    "alzheimer_positive_data.createOrReplaceTempView(\"alzheimer_positive\")\n",
    "spark.sql(\"SELECT * FROM alzheimer_positive\").show()\n",
    "plot_positive_df = alzheimer_positive_data.toPandas()"
   ]
  },
  {
   "cell_type": "code",
   "execution_count": 37,
   "metadata": {},
   "outputs": [
    {
     "name": "stdout",
     "output_type": "stream",
     "text": [
      "+------------------+\n",
      "|               BMI|\n",
      "+------------------+\n",
      "|22.927749230993864|\n",
      "| 26.82768119159602|\n",
      "|17.795882442817113|\n",
      "| 33.80081704413547|\n",
      "|20.716973826446807|\n",
      "|30.626885546270938|\n",
      "|38.387621858169126|\n",
      "|27.833188380332352|\n",
      "| 35.45630172642629|\n",
      "| 39.46303422106146|\n",
      "|22.463382649410605|\n",
      "|26.770945999107713|\n",
      "|27.942862734988346|\n",
      "| 37.93246902566973|\n",
      "|37.543943165696646|\n",
      "|37.583877059139006|\n",
      "| 39.12367687367173|\n",
      "| 34.91818382670918|\n",
      "|  18.4347889493694|\n",
      "| 30.95364704240386|\n",
      "+------------------+\n",
      "only showing top 20 rows\n",
      "\n"
     ]
    }
   ],
   "source": [
    "#Get the BMI for alzheimer NEGATIVE patients into a dataframe\n",
    "spark_test_df.createOrReplaceTempView('view')\n",
    "alzheimer_negative_data = spark.sql(\"\"\"SELECT BMI FROM view WHERE Diagnosis=0\"\"\")\n",
    "alzheimer_negative_data.createOrReplaceTempView(\"alzheimer_negative\")\n",
    "spark.sql(\"SELECT * FROM alzheimer_negative\").show()\n",
    "plot_negative_df = alzheimer_negative_data.toPandas()"
   ]
  },
  {
   "cell_type": "code",
   "execution_count": 38,
   "metadata": {},
   "outputs": [
    {
     "data": {
      "text/plain": [
       "(array([34., 24., 29., 30., 20., 32., 31., 31., 36., 30., 21., 32., 30.,\n",
       "        31., 27., 31., 18., 33., 36., 38., 25., 35., 48., 25., 33.]),\n",
       " array([15.01823993, 16.01722103, 17.01620213, 18.01518323, 19.01416434,\n",
       "        20.01314544, 21.01212654, 22.01110764, 23.01008874, 24.00906984,\n",
       "        25.00805094, 26.00703204, 27.00601315, 28.00499425, 29.00397535,\n",
       "        30.00295645, 31.00193755, 32.00091865, 32.99989975, 33.99888086,\n",
       "        34.99786196, 35.99684306, 36.99582416, 37.99480526, 38.99378636,\n",
       "        39.99276746]),\n",
       " <BarContainer object of 25 artists>)"
      ]
     },
     "execution_count": 38,
     "metadata": {},
     "output_type": "execute_result"
    },
    {
     "data": {
      "image/png": "[encoded data removed]",
      "text/plain": [
       "<Figure size 640x480 with 1 Axes>"
      ]
     },
     "metadata": {},
     "output_type": "display_data"
    }
   ],
   "source": [
    "plot_positive_df['BMI']= plot_positive_df['BMI'].astype(float)\n",
    "plot_negative_df['BMI']= plot_negative_df['BMI'].astype(float)\n",
    "plt.hist(plot_negative_df, bins = 25)\n",
    "plt.hist(plot_positive_df, bins = 25)\n",
    "#hist = plot_positive_df.hist(bins=25) \n",
    "#hist = plot_negative_df.hist(bins =25)"
   ]
  },
  {
   "cell_type": "code",
   "execution_count": 39,
   "metadata": {},
   "outputs": [
    {
     "name": "stdout",
     "output_type": "stream",
     "text": [
      "+-------------------+\n",
      "|        DietQuality|\n",
      "+-------------------+\n",
      "|  8.341903191502704|\n",
      "|  1.653281416913489|\n",
      "|  7.570632793725998|\n",
      "|  7.929485772084872|\n",
      "| 2.8889355278712294|\n",
      "|  3.361536132824541|\n",
      "|  7.971127068871205|\n",
      "| 3.2423431324092586|\n",
      "|  6.217547835258514|\n",
      "|  3.192164279390383|\n",
      "|   2.40458512208533|\n",
      "|  4.269645241994068|\n",
      "|  4.553545357453736|\n",
      "|  9.750510860070055|\n",
      "|   7.69909381443262|\n",
      "|  4.944311503010534|\n",
      "|  9.648614359042611|\n",
      "|  3.003473371070846|\n",
      "|0.16140287245550278|\n",
      "|  1.915171496332837|\n",
      "+-------------------+\n",
      "only showing top 20 rows\n",
      "\n"
     ]
    }
   ],
   "source": [
    "#Get the DietQuality for alzheimer POSITIVE patients into a dataframe\n",
    "spark_test_df.createOrReplaceTempView('view')\n",
    "alzheimer_positive_data = spark.sql(\"\"\"SELECT DietQuality FROM view WHERE Diagnosis=1\"\"\")\n",
    "alzheimer_positive_data.createOrReplaceTempView(\"alzheimer_positive\")\n",
    "spark.sql(\"SELECT * FROM alzheimer_positive\").show()\n",
    "plot_positive_df = alzheimer_positive_data.toPandas()"
   ]
  },
  {
   "cell_type": "code",
   "execution_count": 40,
   "metadata": {},
   "outputs": [
    {
     "name": "stdout",
     "output_type": "stream",
     "text": [
      "+-------------------+\n",
      "|        DietQuality|\n",
      "+-------------------+\n",
      "| 1.3472143059081076|\n",
      "| 0.5187671386507053|\n",
      "|  1.826334664579784|\n",
      "|   7.43560414000302|\n",
      "| 0.7954975089177474|\n",
      "|  1.584922010674088|\n",
      "|  5.897387927490878|\n",
      "|  6.736882043694737|\n",
      "|  8.086019121177605|\n",
      "|0.43402027782902697|\n",
      "|  8.279189503998566|\n",
      "|    7.0244173809347|\n",
      "|  5.317231743513623|\n",
      "| 3.3149826638192073|\n",
      "| 3.5312068468822524|\n",
      "|   9.76757902526422|\n",
      "|0.04314651892614707|\n",
      "|0.40634805209964764|\n",
      "| 2.0325055299205284|\n",
      "| 1.2892518488393956|\n",
      "+-------------------+\n",
      "only showing top 20 rows\n",
      "\n"
     ]
    }
   ],
   "source": [
    "#Get the DietQuality for alzheimer NEGATIVE patients into a dataframe\n",
    "spark_test_df.createOrReplaceTempView('view')\n",
    "alzheimer_negative_data = spark.sql(\"\"\"SELECT DietQuality FROM view WHERE Diagnosis=0\"\"\")\n",
    "alzheimer_negative_data.createOrReplaceTempView(\"alzheimer_negative\")\n",
    "spark.sql(\"SELECT * FROM alzheimer_negative\").show()\n",
    "plot_negative_df = alzheimer_negative_data.toPandas()"
   ]
  },
  {
   "cell_type": "code",
   "execution_count": 43,
   "metadata": {},
   "outputs": [
    {
     "data": {
      "text/plain": [
       "(array([81., 71., 75., 74., 73., 80., 70., 77., 83., 76.]),\n",
       " array([0.01993976, 1.0150662 , 2.01019264, 3.00531908, 4.00044551,\n",
       "        4.99557195, 5.99069839, 6.98582482, 7.98095126, 8.9760777 ,\n",
       "        9.97120414]),\n",
       " <BarContainer object of 10 artists>)"
      ]
     },
     "execution_count": 43,
     "metadata": {},
     "output_type": "execute_result"
    },
    {
     "data": {
      "image/png": "[encoded data removed]",
      "text/plain": [
       "<Figure size 640x480 with 1 Axes>"
      ]
     },
     "metadata": {},
     "output_type": "display_data"
    }
   ],
   "source": [
    "plot_positive_df['DietQuality']= plot_positive_df['DietQuality'].astype(float)\n",
    "plot_negative_df['DietQuality']= plot_negative_df['DietQuality'].astype(float)\n",
    "plt.hist(plot_negative_df, bins = 10)\n",
    "plt.hist(plot_positive_df, bins = 10)\n"
   ]
  },
  {
   "cell_type": "code",
   "execution_count": 44,
   "metadata": {},
   "outputs": [
    {
     "name": "stdout",
     "output_type": "stream",
     "text": [
      "+------------------+\n",
      "|AlcoholConsumption|\n",
      "+------------------+\n",
      "|13.723825705512622|\n",
      "|10.194706301683002|\n",
      "| 8.116831615915244|\n",
      "| 4.433961006314455|\n",
      "| 4.161794911046941|\n",
      "|18.426364465753824|\n",
      "|  4.19289550965694|\n",
      "|3.2896501984691406|\n",
      "| 9.775941142399535|\n",
      "|19.966670359022707|\n",
      "|2.6536664118255193|\n",
      "| 13.44208168540459|\n",
      "|12.644183618611036|\n",
      "| 2.218579778507974|\n",
      "|19.688744302145626|\n",
      "| 17.88591914169506|\n",
      "|15.809404159618325|\n",
      "|3.0600960202439786|\n",
      "|15.649190272628825|\n",
      "|19.984018416523096|\n",
      "+------------------+\n",
      "only showing top 20 rows\n",
      "\n"
     ]
    }
   ],
   "source": [
    "#Get the AlcoholConsumption for alzheimer POSITIVE patients into a dataframe\n",
    "spark_test_df.createOrReplaceTempView('view')\n",
    "alzheimer_positive_data = spark.sql(\"\"\"SELECT AlcoholConsumption FROM view WHERE Diagnosis=1\"\"\")\n",
    "alzheimer_positive_data.createOrReplaceTempView(\"alzheimer_positive\")\n",
    "spark.sql(\"SELECT * FROM alzheimer_positive\").show()\n",
    "plot_positive_df = alzheimer_positive_data.toPandas()"
   ]
  },
  {
   "cell_type": "code",
   "execution_count": 45,
   "metadata": {},
   "outputs": [
    {
     "name": "stdout",
     "output_type": "stream",
     "text": [
      "+------------------+\n",
      "|AlcoholConsumption|\n",
      "+------------------+\n",
      "| 13.29721772827684|\n",
      "|4.5425238177221905|\n",
      "| 19.55508452555359|\n",
      "|12.209265546203783|\n",
      "|18.454356090619612|\n",
      "| 4.140143784276235|\n",
      "|0.6460472705489217|\n",
      "|12.167847629604712|\n",
      "| 16.02868823659191|\n",
      "| 9.811292128906842|\n",
      "|19.300182977973385|\n",
      "|10.978021644757177|\n",
      "|2.1757796502821014|\n",
      "| 9.385602765284368|\n",
      "|12.063959313182217|\n",
      "| 5.836420770415041|\n",
      "| 0.953868876213162|\n",
      "|10.428664097862917|\n",
      "|15.919274092857767|\n",
      "| 4.692218861789743|\n",
      "+------------------+\n",
      "only showing top 20 rows\n",
      "\n"
     ]
    }
   ],
   "source": [
    "#Get the AlcoholConsumption for alzheimer NEGATIVE patients into a dataframe\n",
    "spark_test_df.createOrReplaceTempView('view')\n",
    "alzheimer_negative_data = spark.sql(\"\"\"SELECT AlcoholConsumption FROM view WHERE Diagnosis=0\"\"\")\n",
    "alzheimer_negative_data.createOrReplaceTempView(\"alzheimer_negative\")\n",
    "spark.sql(\"SELECT * FROM alzheimer_negative\").show()\n",
    "plot_negative_df = alzheimer_negative_data.toPandas()"
   ]
  },
  {
   "cell_type": "code",
   "execution_count": 47,
   "metadata": {},
   "outputs": [
    {
     "data": {
      "text/plain": [
       "(array([80., 71., 89., 66., 78., 64., 79., 88., 69., 76.]),\n",
       " array([ 0.065286  ,  2.05758653,  4.04988706,  6.04218759,  8.03448813,\n",
       "        10.02678866, 12.01908919, 14.01138972, 16.00369026, 17.99599079,\n",
       "        19.98829132]),\n",
       " <BarContainer object of 10 artists>)"
      ]
     },
     "execution_count": 47,
     "metadata": {},
     "output_type": "execute_result"
    },
    {
     "data": {
      "image/png": "[encoded data removed]",
      "text/plain": [
       "<Figure size 640x480 with 1 Axes>"
      ]
     },
     "metadata": {},
     "output_type": "display_data"
    }
   ],
   "source": [
    "plot_positive_df['AlcoholConsumption']= plot_positive_df['AlcoholConsumption'].astype(float)\n",
    "plot_negative_df['AlcoholConsumption']= plot_negative_df['AlcoholConsumption'].astype(float)\n",
    "plt.hist(plot_negative_df, bins = 10)\n",
    "plt.hist(plot_positive_df, bins = 10)\n"
   ]
  },
  {
   "cell_type": "code",
   "execution_count": 48,
   "metadata": {},
   "outputs": [
    {
     "name": "stdout",
     "output_type": "stream",
     "text": [
      "+------------------+\n",
      "|      SleepQuality|\n",
      "+------------------+\n",
      "| 4.213209925103094|\n",
      "| 7.333235622932847|\n",
      "| 6.736796641729542|\n",
      "| 4.654828040280001|\n",
      "| 5.436422671151927|\n",
      "| 7.393126210784456|\n",
      "| 9.521026998926784|\n",
      "|4.4125955011923566|\n",
      "|6.7325950076725825|\n",
      "|  6.16464623042618|\n",
      "| 8.810729380102739|\n",
      "| 6.046635135585661|\n",
      "| 8.833340547414064|\n",
      "| 9.741159407092935|\n",
      "| 6.715982191312737|\n",
      "| 8.473919092103424|\n",
      "| 8.204619338232337|\n",
      "|5.1230093568427595|\n",
      "|  8.35376119760604|\n",
      "| 9.710274145896904|\n",
      "+------------------+\n",
      "only showing top 20 rows\n",
      "\n"
     ]
    }
   ],
   "source": [
    "#Get the SleepQuality for alzheimer POSITIVE patients into a dataframe\n",
    "spark_test_df.createOrReplaceTempView('view')\n",
    "alzheimer_positive_data = spark.sql(\"\"\"SELECT SleepQuality FROM view WHERE Diagnosis=1\"\"\")\n",
    "alzheimer_positive_data.createOrReplaceTempView(\"alzheimer_positive\")\n",
    "spark.sql(\"SELECT * FROM alzheimer_positive\").show()\n",
    "plot_positive_df = alzheimer_positive_data.toPandas()"
   ]
  },
  {
   "cell_type": "code",
   "execution_count": 49,
   "metadata": {},
   "outputs": [
    {
     "name": "stdout",
     "output_type": "stream",
     "text": [
      "+-----------------+\n",
      "|     SleepQuality|\n",
      "+-----------------+\n",
      "|9.025678665766115|\n",
      "|7.151292743051223|\n",
      "|9.673574157961111|\n",
      "|8.392553685350862|\n",
      "|5.597237677578526|\n",
      "|7.261952504681128|\n",
      "|5.477685593697583|\n",
      "|5.748223868874191|\n",
      "| 7.55177344379122|\n",
      "|7.644097300051016|\n",
      "|8.312325536865838|\n",
      "|8.253004551076643|\n",
      "|9.087141194537402|\n",
      "|6.790196088361632|\n",
      "|9.574004794993964|\n",
      "|9.250389464823087|\n",
      "|9.582176669777855|\n",
      "|5.797063982273073|\n",
      "|6.090393671344253|\n",
      "|7.869067535006348|\n",
      "+-----------------+\n",
      "only showing top 20 rows\n",
      "\n"
     ]
    }
   ],
   "source": [
    "#Get the SleepQuality for alzheimer NEGATIVE patients into a dataframe\n",
    "spark_test_df.createOrReplaceTempView('view')\n",
    "alzheimer_negative_data = spark.sql(\"\"\"SELECT SleepQuality FROM view WHERE Diagnosis=0\"\"\")\n",
    "alzheimer_negative_data.createOrReplaceTempView(\"alzheimer_negative\")\n",
    "spark.sql(\"SELECT * FROM alzheimer_negative\").show()\n",
    "plot_negative_df = alzheimer_negative_data.toPandas()"
   ]
  },
  {
   "cell_type": "code",
   "execution_count": 54,
   "metadata": {},
   "outputs": [
    {
     "data": {
      "text/plain": [
       "(array([96., 76., 73., 66., 80., 74., 76., 73., 74., 72.]),\n",
       " array([4.00617092, 4.60531655, 5.20446219, 5.80360782, 6.40275346,\n",
       "        7.00189909, 7.60104473, 8.20019036, 8.799336  , 9.39848163,\n",
       "        9.99762727]),\n",
       " <BarContainer object of 10 artists>)"
      ]
     },
     "execution_count": 54,
     "metadata": {},
     "output_type": "execute_result"
    },
    {
     "data": {
      "image/png": "[encoded data removed]",
      "text/plain": [
       "<Figure size 640x480 with 1 Axes>"
      ]
     },
     "metadata": {},
     "output_type": "display_data"
    }
   ],
   "source": [
    "plot_positive_df['SleepQuality']= plot_positive_df['SleepQuality'].astype(float)\n",
    "plot_negative_df['SleepQuality']= plot_negative_df['SleepQuality'].astype(float)\n",
    "plt.hist(plot_negative_df, bins = 10)\n",
    "plt.hist(plot_positive_df, bins = 10)\n"
   ]
  },
  {
   "cell_type": "code",
   "execution_count": 55,
   "metadata": {},
   "outputs": [
    {
     "name": "stdout",
     "output_type": "stream",
     "text": [
      "+---------+\n",
      "|Ethnicity|\n",
      "+---------+\n",
      "|        0|\n",
      "|        0|\n",
      "|        0|\n",
      "|        1|\n",
      "|        0|\n",
      "|        0|\n",
      "|        0|\n",
      "|        2|\n",
      "|        0|\n",
      "|        1|\n",
      "|        0|\n",
      "|        0|\n",
      "|        1|\n",
      "|        0|\n",
      "|        0|\n",
      "|        1|\n",
      "|        1|\n",
      "|        0|\n",
      "|        2|\n",
      "|        2|\n",
      "+---------+\n",
      "only showing top 20 rows\n",
      "\n"
     ]
    }
   ],
   "source": [
    "#Get the Ethnicity for alzheimer POSITIVE patients into a dataframe\n",
    "spark_test_df.createOrReplaceTempView('view')\n",
    "alzheimer_positive_data = spark.sql(\"\"\"SELECT Ethnicity FROM view WHERE Diagnosis=1\"\"\")\n",
    "alzheimer_positive_data.createOrReplaceTempView(\"alzheimer_positive\")\n",
    "spark.sql(\"SELECT * FROM alzheimer_positive\").show()\n",
    "plot_positive_df = alzheimer_positive_data.toPandas()"
   ]
  },
  {
   "cell_type": "code",
   "execution_count": 56,
   "metadata": {},
   "outputs": [
    {
     "name": "stdout",
     "output_type": "stream",
     "text": [
      "+---------+\n",
      "|Ethnicity|\n",
      "+---------+\n",
      "|        0|\n",
      "|        0|\n",
      "|        3|\n",
      "|        0|\n",
      "|        0|\n",
      "|        1|\n",
      "|        3|\n",
      "|        1|\n",
      "|        0|\n",
      "|        3|\n",
      "|        0|\n",
      "|        0|\n",
      "|        0|\n",
      "|        0|\n",
      "|        1|\n",
      "|        0|\n",
      "|        1|\n",
      "|        0|\n",
      "|        0|\n",
      "|        0|\n",
      "+---------+\n",
      "only showing top 20 rows\n",
      "\n"
     ]
    }
   ],
   "source": [
    "#Get the Ethnicity for alzheimer NEGATIVE patients into a dataframe\n",
    "spark_test_df.createOrReplaceTempView('view')\n",
    "alzheimer_negative_data = spark.sql(\"\"\"SELECT Ethnicity FROM view WHERE Diagnosis=0\"\"\")\n",
    "alzheimer_negative_data.createOrReplaceTempView(\"alzheimer_negative\")\n",
    "spark.sql(\"SELECT * FROM alzheimer_negative\").show()\n",
    "plot_negative_df = alzheimer_negative_data.toPandas()"
   ]
  },
  {
   "cell_type": "code",
   "execution_count": 59,
   "metadata": {},
   "outputs": [
    {
     "data": {
      "text/plain": [
       "(array([463., 146., 151.]),\n",
       " array([0., 1., 2., 3.]),\n",
       " <BarContainer object of 3 artists>)"
      ]
     },
     "execution_count": 59,
     "metadata": {},
     "output_type": "execute_result"
    },
    {
     "data": {
      "image/png": "[encoded data removed]",
      "text/plain": [
       "<Figure size 640x480 with 1 Axes>"
      ]
     },
     "metadata": {},
     "output_type": "display_data"
    }
   ],
   "source": [
    "plot_positive_df['Ethnicity']= plot_positive_df['Ethnicity'].astype(float)\n",
    "plot_negative_df['Ethnicity']= plot_negative_df['Ethnicity'].astype(float)\n",
    "plt.hist(plot_negative_df, bins = 3)\n",
    "plt.hist(plot_positive_df, bins = 3)"
   ]
  }
 ],
 "metadata": {
  "kernelspec": {
   "display_name": "dev",
   "language": "python",
   "name": "python3"
  },
  "language_info": {
   "codemirror_mode": {
    "name": "ipython",
    "version": 3
   },
   "file_extension": ".py",
   "mimetype": "text/x-python",
   "name": "python",
   "nbconvert_exporter": "python",
   "pygments_lexer": "ipython3",
   "version": "3.10.13"
  }
 },
 "nbformat": 4,
 "nbformat_minor": 2
}
