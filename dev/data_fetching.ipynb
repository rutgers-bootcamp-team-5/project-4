{
 "cells": [
  {
   "cell_type": "code",
   "execution_count": 33,
   "metadata": {},
   "outputs": [],
   "source": [
    "# Import dependencies\n",
    "import os\n",
    "import sys\n",
    "\n",
    "os.environ['PYSPARK_PYTHON'] = sys.executable\n",
    "os.environ['PYSPARK_DRIVER_PYTHON'] = sys.executable\n",
    "import pandas as pd\n",
    "import pyspark\n",
    "import pyspark.pandas as ps\n",
    "import matplotlib.pyplot as plt\n",
    "import numpy as np\n",
    "from pathlib import Path\n",
    "from pyspark.shell import spark"
   ]
  },
  {
   "cell_type": "code",
   "execution_count": 34,
   "metadata": {},
   "outputs": [],
   "source": [
    "#Assign path to variable\n",
    "alzheimer_data_path = \"../data/alzheimers_disease_data.csv\""
   ]
  },
  {
   "cell_type": "code",
   "execution_count": 35,
   "metadata": {},
   "outputs": [],
   "source": [
    "#Create temp view to be able to easily query from DataFrame\n",
    "spark_test_df = spark.read.csv(alzheimer_data_path, header = 'True')"
   ]
  },
  {
   "cell_type": "code",
   "execution_count": 36,
   "metadata": {},
   "outputs": [
    {
     "name": "stdout",
     "output_type": "stream",
     "text": [
      "+------------------+\n",
      "|               BMI|\n",
      "+------------------+\n",
      "|18.776009409162835|\n",
      "|28.870652386039602|\n",
      "| 18.04591747393549|\n",
      "|22.822896244065568|\n",
      "| 16.33328275322603|\n",
      "|20.041400357053135|\n",
      "| 36.22309879636211|\n",
      "| 21.96939009200723|\n",
      "|15.457688068877605|\n",
      "|17.572895650191803|\n",
      "|36.221033471912186|\n",
      "| 33.78068523580437|\n",
      "|24.852705199101358|\n",
      "| 37.56853045247124|\n",
      "|26.804163783794337|\n",
      "|15.648055357542315|\n",
      "|33.476970506688936|\n",
      "| 32.03489967050928|\n",
      "|15.639676831549425|\n",
      "| 38.07613526117206|\n",
      "+------------------+\n",
      "only showing top 20 rows\n",
      "\n"
     ]
    }
   ],
   "source": [
    "#Get the BMI for alzheimer POSITIVE patients into a dataframe\n",
    "spark_test_df.createOrReplaceTempView('view')\n",
    "alzheimer_positive_data = spark.sql(\"\"\"SELECT BMI FROM view WHERE Diagnosis=1\"\"\")\n",
    "alzheimer_positive_data.createOrReplaceTempView(\"alzheimer_positive\")\n",
    "spark.sql(\"SELECT * FROM alzheimer_positive\").show()\n",
    "plot_positive_df = alzheimer_positive_data.toPandas()"
   ]
  },
  {
   "cell_type": "code",
   "execution_count": 37,
   "metadata": {},
   "outputs": [
    {
     "name": "stdout",
     "output_type": "stream",
     "text": [
      "+------------------+\n",
      "|               BMI|\n",
      "+------------------+\n",
      "|22.927749230993864|\n",
      "| 26.82768119159602|\n",
      "|17.795882442817113|\n",
      "| 33.80081704413547|\n",
      "|20.716973826446807|\n",
      "|30.626885546270938|\n",
      "|38.387621858169126|\n",
      "|27.833188380332352|\n",
      "| 35.45630172642629|\n",
      "| 39.46303422106146|\n",
      "|22.463382649410605|\n",
      "|26.770945999107713|\n",
      "|27.942862734988346|\n",
      "| 37.93246902566973|\n",
      "|37.543943165696646|\n",
      "|37.583877059139006|\n",
      "| 39.12367687367173|\n",
      "| 34.91818382670918|\n",
      "|  18.4347889493694|\n",
      "| 30.95364704240386|\n",
      "+------------------+\n",
      "only showing top 20 rows\n",
      "\n"
     ]
    }
   ],
   "source": [
    "#Get the BMI for alzheimer NEGATIVE patients into a dataframe\n",
    "spark_test_df.createOrReplaceTempView('view')\n",
    "alzheimer_negative_data = spark.sql(\"\"\"SELECT BMI FROM view WHERE Diagnosis=0\"\"\")\n",
    "alzheimer_negative_data.createOrReplaceTempView(\"alzheimer_negative\")\n",
    "spark.sql(\"SELECT * FROM alzheimer_negative\").show()\n",
    "plot_negative_df = alzheimer_negative_data.toPandas()"
   ]
  },
  {
   "cell_type": "code",
   "execution_count": 38,
   "metadata": {},
   "outputs": [
    {
     "data": {
      "text/plain": [
       "(array([34., 24., 29., 30., 20., 32., 31., 31., 36., 30., 21., 32., 30.,\n",
       "        31., 27., 31., 18., 33., 36., 38., 25., 35., 48., 25., 33.]),\n",
       " array([15.01823993, 16.01722103, 17.01620213, 18.01518323, 19.01416434,\n",
       "        20.01314544, 21.01212654, 22.01110764, 23.01008874, 24.00906984,\n",
       "        25.00805094, 26.00703204, 27.00601315, 28.00499425, 29.00397535,\n",
       "        30.00295645, 31.00193755, 32.00091865, 32.99989975, 33.99888086,\n",
       "        34.99786196, 35.99684306, 36.99582416, 37.99480526, 38.99378636,\n",
       "        39.99276746]),\n",
       " <BarContainer object of 25 artists>)"
      ]
     },
     "execution_count": 38,
     "metadata": {},
     "output_type": "execute_result"
    },
    {
     "data": {
      "image/png": "[encoded data removed]",
      "text/plain": [
       "<Figure size 640x480 with 1 Axes>"
      ]
     },
     "metadata": {},
     "output_type": "display_data"
    }
   ],
   "source": [
    "plot_positive_df['BMI']= plot_positive_df['BMI'].astype(float)\n",
    "plot_negative_df['BMI']= plot_negative_df['BMI'].astype(float)\n",
    "plt.hist(plot_negative_df, bins = 25)\n",
    "plt.hist(plot_positive_df, bins = 25)\n",
    "#hist = plot_positive_df.hist(bins=25) \n",
    "#hist = plot_negative_df.hist(bins =25)"
   ]
  }
 ],
 "metadata": {
  "kernelspec": {
   "display_name": "dev",
   "language": "python",
   "name": "python3"
  },
  "language_info": {
   "codemirror_mode": {
    "name": "ipython",
    "version": 3
   },
   "file_extension": ".py",
   "mimetype": "text/x-python",
   "name": "python",
   "nbconvert_exporter": "python",
   "pygments_lexer": "ipython3",
   "version": "3.10.13"
  }
 },
 "nbformat": 4,
 "nbformat_minor": 2
}
